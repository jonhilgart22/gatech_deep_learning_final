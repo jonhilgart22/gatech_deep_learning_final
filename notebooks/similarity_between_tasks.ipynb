{
 "cells": [
  {
   "cell_type": "code",
   "execution_count": 19,
   "metadata": {},
   "outputs": [],
   "source": [
    "import nltk\n",
    "import os"
   ]
  },
  {
   "cell_type": "code",
   "execution_count": 28,
   "metadata": {},
   "outputs": [],
   "source": [
    "def save_top_k_words(text_path):\n",
    "    text1 = open(text_path).read()\n",
    "    allWords = nltk.tokenize.word_tokenize(text1)\n",
    "    #allWordDist = nltk.FreqDist(w.lower() for w in allWords)\n",
    "    \n",
    "    # exclude stopwords\n",
    "    stopwords = nltk.corpus.stopwords.words('english')\n",
    "    allWordExceptStopDist = nltk.FreqDist(w.lower() for w in allWords if w not in stopwords)\n",
    "    top_10k = []\n",
    "    \n",
    "    for idx, key in enumerate(allWordExceptStopDist):\n",
    "        if len(key) == 1:\n",
    "            continue\n",
    "        else:\n",
    "            top_10k.append(key)\n",
    "        \n",
    "        if len(top_10k) == 10000:\n",
    "            break\n",
    "    return top_10k"
   ]
  },
  {
   "cell_type": "code",
   "execution_count": 31,
   "metadata": {
    "collapsed": true
   },
   "outputs": [
    {
     "name": "stdout",
     "output_type": "stream",
     "text": [
      "0\n",
      "1\n",
      "2\n",
      "3\n",
      "4\n",
      "5\n",
      "6\n",
      "7\n",
      "8\n"
     ]
    }
   ],
   "source": [
    "text = '../datasets/'\n",
    "word_dict = {}\n",
    "for idx, each_data in enumerate(os.listdir(text)):\n",
    "    path = text + each_data + '/train.txt'\n",
    "    word_dict[each_data] = save_top_k_words(path)\n",
    "    #print(idx)"
   ]
  },
  {
   "cell_type": "code",
   "execution_count": 36,
   "metadata": {},
   "outputs": [
    {
     "name": "stdout",
     "output_type": "stream",
     "text": [
      "rct-sample 3523\n",
      "scierc 4664\n",
      "chemprot 7907\n",
      "imdb 10000\n",
      "hyperpartisan_news 10000\n",
      "ag 10000\n",
      "citation_intent 6176\n",
      "amazon 10000\n",
      "rct-20k 10000\n"
     ]
    }
   ],
   "source": [
    "for key in word_dict:\n",
    "    print(key, len(word_dict[key]))"
   ]
  },
  {
   "cell_type": "code",
   "execution_count": 47,
   "metadata": {},
   "outputs": [
    {
     "data": {
      "text/plain": [
       "{'scierc/scierc': 1.0,\n",
       " 'scierc/chemprot': 0.1876072041166381,\n",
       " 'scierc/imdb': 0.22319897084048027,\n",
       " 'scierc/hyperpartisan_news': 0.24056603773584906,\n",
       " 'scierc/ag': 0.20518867924528303,\n",
       " 'scierc/citation_intent': 0.41916809605488853,\n",
       " 'scierc/amazon': 0.2448542024013722,\n",
       " 'scierc/rct-20k': 0.25064322469982847,\n",
       " 'chemprot/scierc': 0.1876072041166381,\n",
       " 'chemprot/chemprot': 1.0,\n",
       " 'chemprot/imdb': 0.13127608448210445,\n",
       " 'chemprot/hyperpartisan_news': 0.14695839129884913,\n",
       " 'chemprot/ag': 0.135829012267611,\n",
       " 'chemprot/citation_intent': 0.171470207253886,\n",
       " 'chemprot/amazon': 0.14050841026938157,\n",
       " 'chemprot/rct-20k': 0.2567345390160617,\n",
       " 'imdb/scierc': 0.22319897084048027,\n",
       " 'imdb/chemprot': 0.13127608448210445,\n",
       " 'imdb/imdb': 1.0,\n",
       " 'imdb/hyperpartisan_news': 0.3935,\n",
       " 'imdb/ag': 0.332,\n",
       " 'imdb/citation_intent': 0.23073186528497408,\n",
       " 'imdb/amazon': 0.3253,\n",
       " 'imdb/rct-20k': 0.1984,\n",
       " 'hyperpartisan_news/scierc': 0.24056603773584906,\n",
       " 'hyperpartisan_news/chemprot': 0.14695839129884913,\n",
       " 'hyperpartisan_news/imdb': 0.3935,\n",
       " 'hyperpartisan_news/hyperpartisan_news': 1.0,\n",
       " 'hyperpartisan_news/ag': 0.402,\n",
       " 'hyperpartisan_news/citation_intent': 0.2495142487046632,\n",
       " 'hyperpartisan_news/amazon': 0.3257,\n",
       " 'hyperpartisan_news/rct-20k': 0.23,\n",
       " 'ag/scierc': 0.20518867924528303,\n",
       " 'ag/chemprot': 0.135829012267611,\n",
       " 'ag/imdb': 0.332,\n",
       " 'ag/hyperpartisan_news': 0.402,\n",
       " 'ag/ag': 1.0,\n",
       " 'ag/citation_intent': 0.21988341968911918,\n",
       " 'ag/amazon': 0.3006,\n",
       " 'ag/rct-20k': 0.2242,\n",
       " 'citation_intent/scierc': 0.41916809605488853,\n",
       " 'citation_intent/chemprot': 0.171470207253886,\n",
       " 'citation_intent/imdb': 0.23073186528497408,\n",
       " 'citation_intent/hyperpartisan_news': 0.2495142487046632,\n",
       " 'citation_intent/ag': 0.21988341968911918,\n",
       " 'citation_intent/citation_intent': 1.0,\n",
       " 'citation_intent/amazon': 0.23656088082901555,\n",
       " 'citation_intent/rct-20k': 0.23672279792746115,\n",
       " 'amazon/scierc': 0.2448542024013722,\n",
       " 'amazon/chemprot': 0.14050841026938157,\n",
       " 'amazon/imdb': 0.3253,\n",
       " 'amazon/hyperpartisan_news': 0.3257,\n",
       " 'amazon/ag': 0.3006,\n",
       " 'amazon/citation_intent': 0.23656088082901555,\n",
       " 'amazon/amazon': 1.0,\n",
       " 'amazon/rct-20k': 0.2136,\n",
       " 'rct-20k/scierc': 0.25064322469982847,\n",
       " 'rct-20k/chemprot': 0.2567345390160617,\n",
       " 'rct-20k/imdb': 0.1984,\n",
       " 'rct-20k/hyperpartisan_news': 0.23,\n",
       " 'rct-20k/ag': 0.2242,\n",
       " 'rct-20k/citation_intent': 0.23672279792746115,\n",
       " 'rct-20k/amazon': 0.2136,\n",
       " 'rct-20k/rct-20k': 1.0}"
      ]
     },
     "execution_count": 47,
     "metadata": {},
     "output_type": "execute_result"
    }
   ],
   "source": [
    "results = {}\n",
    "\n",
    "for key1 in ['scierc', 'chemprot', 'imdb', 'hyperpartisan_news', 'ag', 'citation_intent', 'amazon', 'rct-20k']:\n",
    "    for key2 in ['scierc', 'chemprot', 'imdb', 'hyperpartisan_news', 'ag', 'citation_intent', 'amazon', 'rct-20k']:\n",
    "        n = min(len(word_dict[key1]), len(word_dict[key2]))\n",
    "        sim = len(set(word_dict[key1][:n]).intersection(word_dict[key2][:n]))\n",
    "        sim /= n\n",
    "        results[key1+'/'+key2] = sim\n",
    "        \n",
    "results"
   ]
  }
 ],
 "metadata": {
  "kernelspec": {
   "display_name": "Python 3",
   "language": "python",
   "name": "python3"
  },
  "language_info": {
   "codemirror_mode": {
    "name": "ipython",
    "version": 3
   },
   "file_extension": ".py",
   "mimetype": "text/x-python",
   "name": "python",
   "nbconvert_exporter": "python",
   "pygments_lexer": "ipython3",
   "version": "3.6.5"
  }
 },
 "nbformat": 4,
 "nbformat_minor": 2
}
